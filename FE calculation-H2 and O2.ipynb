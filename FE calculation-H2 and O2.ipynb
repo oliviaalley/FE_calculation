{
 "cells": [
  {
   "cell_type": "code",
   "execution_count": null,
   "metadata": {},
   "outputs": [],
   "source": [
    "import pandas as pd\n",
    "import numpy as np\n",
    "import plotly.express as px\n",
    "# pd.set_option('max_columns', 200)         # need to find the new way to say this"
   ]
  },
  {
   "cell_type": "markdown",
   "metadata": {},
   "source": [
    "     Agilent RT (min)\n",
    "     \n",
    "H2 peak at: 4.28\n",
    "\n",
    "O2 peak at:\t4.61\n",
    "\n",
    "N2 peak at:\t4.95\n",
    "\t\n",
    "H2 peak at:\t0.88\n",
    "(SRI)\t"
   ]
  },
  {
   "cell_type": "code",
   "execution_count": null,
   "metadata": {
    "scrolled": true
   },
   "outputs": [],
   "source": [
    "# define which columns to import for each sheet in the file\n",
    "# channel 4 is Ar/SRI H2, channel 2 is N2/Agilent O2\n",
    "# using Agilent alone, channel 2 is N2, and corresponds to post-GC mass flow rate\n",
    "flowrates_col_list = ['Timestamp_FR', 'mol/s_2']   # timestamp is same between channels in this case\n",
    "O2_GC_col_list = ['Timestamp_O2', 'RT [min]_O2', 'Area_O2', 'Height_O2']\n",
    "#O2XO_GC_col_list = ['Timestamp_O2XO', 'RT [min]_O2XO', 'Area_O2XO', 'Height_O2XO']\n",
    "H2_GC_col_list = ['Timestamp_H2', 'RT [min]_H2', 'Area_H2', 'Height_H2']\n",
    "#H2XO_GC_col_list = ['Timestamp_H2XO', 'RT [min]_H2XO', 'Area_H2XO', 'Height_H2XO']\n",
    "CP_col_list = ['Timestamp_CP', 'Ewe/V', 'I/mA']"
   ]
  },
  {
   "cell_type": "code",
   "execution_count": null,
   "metadata": {},
   "outputs": [],
   "source": [
    "# import each sheet with the proper header row defined\n",
    "# Insert for header the Excel sheet row number - 1, so for headers in row 66, insert 65.\n",
    "df_CP = pd.read_excel('Pt-C-1_CP.xlsx', sheet_name=\"Sheet1\", header=[61], usecols = CP_col_list)\n",
    "df_FR = pd.read_excel('Pt-C-1_FR.xlsx', sheet_name=\"Sheet1\", header=[0],\n",
    "                     usecols=flowrates_col_list)\n",
    "df_O2GC = pd.read_excel('Pt-C-1_GC.xlsx', sheet_name='O2', header=[0], usecols = O2_GC_col_list)\n",
    "#df_O2XOGC = pd.read_excel('Si-GC-H2-O2.xlsx', sheet_name='O2XO', header=[0], usecols = O2XO_GC_col_list)\n",
    "df_H2GC = pd.read_excel('Pt-C-1_GC.xlsx', sheet_name='H2', header=[0], usecols = H2_GC_col_list)\n",
    "#df_H2XOGC = pd.read_excel('Si-GC-H2-O2.xlsx', sheet_name='H2XO', header=[0], usecols = H2XO_GC_col_list)\n",
    "\n",
    "df_H2GC.head()"
   ]
  },
  {
   "cell_type": "code",
   "execution_count": null,
   "metadata": {},
   "outputs": [],
   "source": [
    "df_CP.head()"
   ]
  },
  {
   "cell_type": "code",
   "execution_count": null,
   "metadata": {},
   "outputs": [],
   "source": [
    "# rename columns before merge--will merge by the timestamp column\n",
    "\n",
    "df_H2GC.rename(columns={'Timestamp_H2':'timestamp'}, inplace=True)\n",
    "#df_H2XOGC.rename(columns={'Timestamp_H2XO':'timestamp'}, inplace=True)\n",
    "df_O2GC.rename(columns={'Timestamp_O2':'timestamp'}, inplace=True)\n",
    "#df_O2XOGC.rename(columns={'Timestamp_O2XO':'timestamp'}, inplace=True)\n",
    "df_CP.rename(columns={'Timestamp_CP':'timestamp'}, inplace=True)\n",
    "df_FR.rename(columns={'Timestamp_FR':'timestamp'}, inplace=True)\n",
    "\n",
    "df_O2GC.head()"
   ]
  },
  {
   "cell_type": "code",
   "execution_count": null,
   "metadata": {},
   "outputs": [],
   "source": [
    "df_CP.head()"
   ]
  },
  {
   "cell_type": "code",
   "execution_count": null,
   "metadata": {},
   "outputs": [],
   "source": [
    "df_O2GC.head()"
   ]
  },
  {
   "cell_type": "code",
   "execution_count": null,
   "metadata": {},
   "outputs": [],
   "source": [
    "# Here is where the magic happens, and the different dataframes are concatenated\n",
    "# and a single timestamp column is produced with all values.\n",
    "\n",
    "# make a list of the dataframes to merge\n",
    "#df_all_list = [df_CP, df_O2GC]\n",
    "df_all_list = [df_CP, df_FR, df_H2GC, df_O2GC] #, df_H2XOGC, df_O2XOGC]\n",
    "\n",
    "# concatenate along axis 0, pasting the GC data at the end of the flowrate and CP data\n",
    "df_all = pd.concat(df_all_list, axis=0, ignore_index=True)\n",
    "\n",
    "# sort rows by timestamp, which locates the peaks from the GC properly with respect to the current and flowrate measurements\n",
    "df_all.sort_values(by='timestamp', ascending=True, inplace=True)\n",
    "df_all"
   ]
  },
  {
   "cell_type": "code",
   "execution_count": null,
   "metadata": {},
   "outputs": [],
   "source": [
    "len_column = df_all['timestamp'].shape[0]\n",
    "#print(len_column)"
   ]
  },
  {
   "cell_type": "code",
   "execution_count": null,
   "metadata": {},
   "outputs": [],
   "source": [
    "# add columns for average I and avg mol/s\n",
    "# create series to average over 5 surrounding current values\n",
    "# create series to average over 5 surrounding flow rate values\n",
    "# place those series below when done\n",
    "\n",
    "H2_slope = 135.068     # Agilent 2sccm flow rate\n",
    "H2_intercept = 0          # Agilent 2sccm flow rate\n",
    "#H2_slope = 130.823091     # Agilent 5sccm flow rate\n",
    "#H2_intercept = 0          # Agilent 5sccm flow rate\n",
    "#H2_slope = 121.27     # Agilent June 2021 10sccm flow rate\n",
    "#H2_intercept = 7.2112   # Agilent June 2021\n",
    "#H2_slope = 18.544          # SRI\n",
    "#H2_intercept = -8.6855     # SRI\n",
    "O2_slope = 885\n",
    "O2_intercept = -730\n",
    "#O2_slope = 850.876      # Agilent new\n",
    "#O2_intercept = -377.989      # Agilent new calibration\n",
    "\n",
    "\n",
    "# add columns to calculate ppm, mol/s product, and FE for main H2 and O2 peaks\n",
    "# currently just at calculating ppm from the calibration curves\n",
    "# df.insert(2, 'new-col', data)\n",
    "df_all.insert(3, 'I_avg(A)', np.zeros(len_column))\n",
    "df_all.insert(5, 'mol/s_avg', np.zeros(len_column))\n",
    "# Calculate H2 ppm by multiplying H2 area by calibration value for Agilent\n",
    "# SRI has slope and intercept for H2\n",
    "df_all.insert(9, 'H2_ppm', df_all['Area_H2']*H2_slope+H2_intercept)\n",
    "#df_all.insert(10, 'H2_mol/s', df_all['H2_ppm']*df_all['mol/s_2']*0.000001)\n",
    "df_all.insert(10, 'H2_mol/s', np.zeros(len_column))\n",
    "df_all.insert(11, 'H2_FE', np.zeros(len_column))\n",
    "# Calculate O2 ppm by using O2 area calibration curve for Agilent\n",
    "df_all.insert(15, 'O2_ppm', df_all['Area_O2']*O2_slope+O2_intercept)\n",
    "#df_all.insert(15, 'O2_ppm', np.zeros(len_column))\n",
    "df_all.insert(16, 'O2_mol/s', np.zeros(len_column))\n",
    "df_all.insert(17, 'O2_FE', np.zeros(len_column))\n",
    "df_all"
   ]
  },
  {
   "cell_type": "code",
   "execution_count": null,
   "metadata": {},
   "outputs": [],
   "source": [
    "# add columns to calculate ppm for crossover H2 and O2 peaks\n",
    "# Calculate H2, O2 ppm by using the calibration for the Agilent, for O2 in the H2 channel\n",
    "#df_all.insert(21, 'H2XO_ppm', df_all['Area_H2XO']*H2_slope+H2_intercept)\n",
    "#df_all.insert(22, 'H2XO_mol/s', np.zeros(len_column))\n",
    "#df_all.insert(23, 'H2XO_FE', np.zeros(len_column))\n",
    "#df_all.insert(27, 'O2XO_ppm', df_all['Area_O2XO']*O2_slope+O2_intercept)\n",
    "#df_all.insert(28, 'O2XO_mol/s', np.zeros(len_column))\n",
    "#df_all.insert(29, 'O2XO_FE', np.zeros(len_column))\n",
    "\n",
    "#df_all"
   ]
  },
  {
   "cell_type": "code",
   "execution_count": null,
   "metadata": {},
   "outputs": [],
   "source": [
    "# plot each variable\n",
    "#cols_y = list(df_all.columns)[1:]\n",
    "# plot just some variables\n",
    "cols_y = (df_all['Area_H2'], df_all['Area_O2'], df_all['I/mA']) #df_all['Area_O2XO'], df_all['Area_H2XO'], )\n",
    "for y in cols_y:\n",
    "    fig_ = px.scatter(df_all, x='timestamp', y=y)\n",
    "    fig_.show()\n",
    "    \n",
    "#print(\"Area_H2 and Area_O2\")\n",
    "#fig_ = px.scatter(df_all, x='timestamp', y=['Area_O2', 'H2_ppm', 'Ewe/V'], log_y=True)\n",
    "#fig_ = px.scatter(df_all, x='timestamp', y='Area_H2')\n",
    "#fig_.show()"
   ]
  },
  {
   "cell_type": "code",
   "execution_count": null,
   "metadata": {},
   "outputs": [],
   "source": [
    "# Save the data in an excel sheet\n",
    "# excel sheet name:\n",
    "name_out = 'Pt-C-1-merged-with-all-GC.xlsx'\n",
    "\n",
    "df_all.to_excel(name_out, sheet_name='FE')"
   ]
  },
  {
   "cell_type": "code",
   "execution_count": null,
   "metadata": {},
   "outputs": [],
   "source": [
    "import xlwings as xw"
   ]
  },
  {
   "cell_type": "code",
   "execution_count": null,
   "metadata": {},
   "outputs": [],
   "source": [
    "wb = xw.Book('Calibrations.xlsx')\n",
    "sht=wb.sheets[0]\n",
    "new_wb = xw.Book(name_out)\n",
    "sht.api.Copy(None, After=new_wb.sheets[-1].api)\n",
    "wb.close()"
   ]
  }
 ],
 "metadata": {
  "kernelspec": {
   "display_name": "Python 3 (ipykernel)",
   "language": "python",
   "name": "python3"
  },
  "language_info": {
   "codemirror_mode": {
    "name": "ipython",
    "version": 3
   },
   "file_extension": ".py",
   "mimetype": "text/x-python",
   "name": "python",
   "nbconvert_exporter": "python",
   "pygments_lexer": "ipython3",
   "version": "3.10.12"
  }
 },
 "nbformat": 4,
 "nbformat_minor": 4
}
